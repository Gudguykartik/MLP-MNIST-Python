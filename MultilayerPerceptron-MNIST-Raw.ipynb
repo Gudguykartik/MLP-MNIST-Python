{
 "cells": [
  {
   "cell_type": "code",
   "execution_count": 1,
   "metadata": {
    "collapsed": true
   },
   "outputs": [],
   "source": [
    "import os\n",
    "import sys\n",
    "import gzip\n",
    "import random\n",
    "import matplotlib.pyplot as plt\n",
    "import matplotlib.patches as mpatches\n",
    "import numpy as np\n",
    "from urllib.request import urlretrieve\n",
    "from tqdm import tqdm"
   ]
  },
  {
   "cell_type": "code",
   "execution_count": 2,
   "metadata": {
    "collapsed": true
   },
   "outputs": [],
   "source": [
    "%matplotlib inline"
   ]
  },
  {
   "cell_type": "markdown",
   "metadata": {},
   "source": [
    "#### Dataset Info"
   ]
  },
  {
   "cell_type": "code",
   "execution_count": 3,
   "metadata": {
    "collapsed": true
   },
   "outputs": [],
   "source": [
    "# source: http://yann.lecun.com/exdb/mnist/\n",
    "DATA_URLS = [\n",
    "    \"http://yann.lecun.com/exdb/mnist/train-images-idx3-ubyte.gz\",\n",
    "    \"http://yann.lecun.com/exdb/mnist/train-labels-idx1-ubyte.gz\",\n",
    "    \"http://yann.lecun.com/exdb/mnist/t10k-images-idx3-ubyte.gz\",\n",
    "    \"http://yann.lecun.com/exdb/mnist/t10k-labels-idx1-ubyte.gz\"\n",
    "]\n",
    "\n",
    "FILE_NAMES = [\n",
    "    \"train-images-idx3-ubyte.gz\",\n",
    "    \"train-labels-idx1-ubyte.gz\",\n",
    "    \"t10k-images-idx3-ubyte.gz\",\n",
    "    \"t10k-labels-idx1-ubyte.gz\"\n",
    "]\n",
    "\n",
    "IMAGE_WIDTH = 28\n",
    "IMAGE_HEIGHT = 28\n",
    "NUM_CHANNELS = 1\n",
    "PIXEL_DEPTH = 255\n",
    "NUM_LABELS = 10\n",
    "TRAIN_IMAGES_NUM = 60000\n",
    "TEST_IMAGES_NUM = 10000"
   ]
  },
  {
   "cell_type": "markdown",
   "metadata": {},
   "source": [
    "#### Downloading dataset"
   ]
  },
  {
   "cell_type": "code",
   "execution_count": 4,
   "metadata": {},
   "outputs": [],
   "source": [
    "class DLProgress(tqdm):\n",
    "    last_block = 0\n",
    "\n",
    "    def hook(self, block_num=1, block_size=1, total_size=None):\n",
    "        self.total = total_size\n",
    "        self.update((block_num - self.last_block) * block_size)\n",
    "        self.last_block = block_num\n",
    "\n",
    "for url, filename in zip(DATA_URLS, FILE_NAMES):\n",
    "    if not os.path.isfile(filename):\n",
    "        with DLProgress(unit=\"B\", unit_scale=True, miniters=1, desc=\"MNIST:\" + filename) as pbar:\n",
    "            urlretrieve(url, filename, pbar.hook)"
   ]
  },
  {
   "cell_type": "markdown",
   "metadata": {},
   "source": [
    "#### Extracting data"
   ]
  },
  {
   "cell_type": "code",
   "execution_count": 5,
   "metadata": {
    "collapsed": true
   },
   "outputs": [],
   "source": [
    "def extract_data(file_path, num_images):\n",
    "    with gzip.open(file_path) as bstream:\n",
    "        bstream.read(16)\n",
    "        buffer = bstream.read(IMAGE_WIDTH * IMAGE_HEIGHT * num_images)\n",
    "        data = np.frombuffer(buffer, dtype=np.uint8).astype(np.float32)\n",
    "        data = data.reshape(num_images, IMAGE_WIDTH, IMAGE_HEIGHT, 1)\n",
    "        return data"
   ]
  },
  {
   "cell_type": "code",
   "execution_count": 6,
   "metadata": {
    "collapsed": true
   },
   "outputs": [],
   "source": [
    "def extract_labels(file_path, num_images):\n",
    "    with gzip.open(file_path) as bstream:\n",
    "        bstream.read(8)\n",
    "        buffer = bstream.read(1 * num_images)\n",
    "        labels = np.frombuffer(buffer, dtype=np.uint8).astype(np.int64)\n",
    "    return labels"
   ]
  },
  {
   "cell_type": "code",
   "execution_count": 7,
   "metadata": {
    "collapsed": true
   },
   "outputs": [],
   "source": [
    "trainX_raw = extract_data(\"train-images-idx3-ubyte.gz\", TRAIN_IMAGES_NUM)\n",
    "trainY_raw = extract_labels(\"train-labels-idx1-ubyte.gz\", TRAIN_IMAGES_NUM)\n",
    "testX_raw = extract_data(\"t10k-images-idx3-ubyte.gz\", TEST_IMAGES_NUM)\n",
    "testY_raw = extract_labels(\"t10k-labels-idx1-ubyte.gz\", TEST_IMAGES_NUM)"
   ]
  },
  {
   "cell_type": "markdown",
   "metadata": {},
   "source": [
    "#### Present extracted data"
   ]
  },
  {
   "cell_type": "code",
   "execution_count": 8,
   "metadata": {
    "collapsed": true
   },
   "outputs": [],
   "source": [
    "def show_digit(trainX_raw, trainY_raw, index):\n",
    "    image = trainX_raw[index].reshape([IMAGE_WIDTH, IMAGE_HEIGHT])\n",
    "    label = trainY_raw[index]\n",
    "    plt.title(\"Training data, index: {},  Label: {}\".format(index, label))\n",
    "    plt.imshow(image, cmap=\"gray_r\")\n",
    "    plt.show()"
   ]
  },
  {
   "cell_type": "code",
   "execution_count": 9,
   "metadata": {},
   "outputs": [
    {
     "name": "stdout",
     "output_type": "stream",
     "text": [
      "trainX_raw shape: (60000, 28, 28, 1)\n",
      "trainY_raw shape: (60000,)\n",
      "testX_raw shape: (10000, 28, 28, 1)\n",
      "testY_raw shape: (10000,)\n"
     ]
    },
    {
     "data": {
      "image/png": "[encoded data removed]",
      "text/plain": [
       "<matplotlib.figure.Figure at 0x110884278>"
      ]
     },
     "metadata": {},
     "output_type": "display_data"
    }
   ],
   "source": [
    "print(\"trainX_raw shape: \" + str(trainX_raw.shape))\n",
    "print(\"trainY_raw shape: \" + str(trainY_raw.shape))\n",
    "print(\"testX_raw shape: \" + str(testX_raw.shape))\n",
    "print(\"testY_raw shape: \" + str(testY_raw.shape))\n",
    "show_digit(trainX_raw, trainY_raw, np.random.randint(1, TRAIN_IMAGES_NUM + 1))"
   ]
  },
  {
   "cell_type": "markdown",
   "metadata": {},
   "source": [
    "#### Preprocess data"
   ]
  },
  {
   "cell_type": "code",
   "execution_count": 10,
   "metadata": {
    "collapsed": true
   },
   "outputs": [],
   "source": [
    "def normalize(x, pixel_depth):\n",
    "    return x / pixel_depth"
   ]
  },
  {
   "cell_type": "code",
   "execution_count": 11,
   "metadata": {
    "collapsed": true
   },
   "outputs": [],
   "source": [
    "def one_hot_encode(x, labels_num):\n",
    "    rows = len(x)\n",
    "\n",
    "    encoding_array = np.zeros([rows, labels_num])\n",
    "    for row in range(0, rows):\n",
    "        label = x[row] - 1\n",
    "        encoding_array[row][label] = 1\n",
    "\n",
    "    return encoding_array"
   ]
  },
  {
   "cell_type": "code",
   "execution_count": 12,
   "metadata": {
    "collapsed": true
   },
   "outputs": [],
   "source": [
    "trainX_processed = normalize(\n",
    "    np.reshape(trainX_raw, (TRAIN_IMAGES_NUM, IMAGE_WIDTH * IMAGE_HEIGHT)), PIXEL_DEPTH)\n",
    "\n",
    "testX_processed = normalize(\n",
    "    np.reshape(testX_raw, (TEST_IMAGES_NUM, IMAGE_WIDTH * IMAGE_HEIGHT)), PIXEL_DEPTH)"
   ]
  },
  {
   "cell_type": "code",
   "execution_count": 13,
   "metadata": {},
   "outputs": [
    {
     "name": "stdout",
     "output_type": "stream",
     "text": [
      "trainX_raw shape: (60000, 28, 28, 1), min: 0.0, max: 255.0\n",
      "testX_raw shape: (10000, 28, 28, 1), min: 0.0, max: 255.0\n",
      "trainX_processed shape: (60000, 784), min: 0.0, max: 1.0\n",
      "testX_processed shape: (10000, 784), min: 0.0, max: 1.0\n"
     ]
    }
   ],
   "source": [
    "print(\"trainX_raw shape: \" + str(trainX_raw.shape) + \", min: \" \n",
    "      + str(np.min(trainX_raw)) + \", max: \" + str(np.max(trainX_raw)))\n",
    "\n",
    "print(\"testX_raw shape: \" + str(testX_raw.shape) + \", min: \" \n",
    "      + str(np.min(testX_raw)) + \", max: \" + str(np.max(testX_raw)))\n",
    "\n",
    "print(\"trainX_processed shape: \" + str(trainX_processed.shape) \n",
    "      + \", min: \" + str(np.min(trainX_processed)) + \", max: \" + str(np.max(trainX_processed)))\n",
    "\n",
    "print(\"testX_processed shape: \" + str(testX_processed.shape) \n",
    "      + \", min: \" + str(np.min(testX_processed)) + \", max: \" + str(np.max(testX_processed)))"
   ]
  },
  {
   "cell_type": "code",
   "execution_count": 14,
   "metadata": {
    "collapsed": true
   },
   "outputs": [],
   "source": [
    "trainY_processed = one_hot_encode(trainY_raw, NUM_LABELS)\n",
    "testY_processed = one_hot_encode(testY_raw, NUM_LABELS)"
   ]
  },
  {
   "cell_type": "code",
   "execution_count": 15,
   "metadata": {},
   "outputs": [
    {
     "name": "stdout",
     "output_type": "stream",
     "text": [
      "Label on pos: 15250 equals 3, OHE tensor: [ 0.  0.  1.  0.  0.  0.  0.  0.  0.  0.]\n",
      "Label on pos: 8475 equals 7, OHE tensor: [ 0.  0.  0.  0.  0.  0.  1.  0.  0.  0.]\n"
     ]
    }
   ],
   "source": [
    "random_train_index = np.random.randint(1, TRAIN_IMAGES_NUM + 1)\n",
    "random_test_index = np.random.randint(1, TEST_IMAGES_NUM + 1)\n",
    "\n",
    "print(\"Label on pos: \" + str(random_train_index) + \" equals \" \n",
    "      + str(trainY_raw[random_train_index]) + \", OHE tensor: \" \n",
    "      + str(trainY_processed[random_train_index]))\n",
    "\n",
    "print(\"Label on pos: \" + str(random_test_index) + \" equals \" \n",
    "      + str(testY_raw[random_test_index]) + \", OHE tensor: \" \n",
    "      + str(testY_processed[random_test_index]))"
   ]
  },
  {
   "cell_type": "markdown",
   "metadata": {},
   "source": [
    "#### Divide data"
   ]
  },
  {
   "cell_type": "code",
   "execution_count": 16,
   "metadata": {
    "collapsed": true
   },
   "outputs": [],
   "source": [
    "VALIDATION_DATA_PERCENTAGE = 0.1"
   ]
  },
  {
   "cell_type": "code",
   "execution_count": 17,
   "metadata": {
    "collapsed": true
   },
   "outputs": [],
   "source": [
    "val_samples = int(TRAIN_IMAGES_NUM * VALIDATION_DATA_PERCENTAGE)"
   ]
  },
  {
   "cell_type": "code",
   "execution_count": 18,
   "metadata": {
    "collapsed": true
   },
   "outputs": [],
   "source": [
    "train_dataX = trainX_processed[val_samples:]\n",
    "train_dataY = trainY_processed[val_samples:]\n",
    "val_dataX = trainX_processed[:val_samples]\n",
    "val_dataY = trainY_processed[:val_samples]"
   ]
  },
  {
   "cell_type": "code",
   "execution_count": 19,
   "metadata": {},
   "outputs": [
    {
     "name": "stdout",
     "output_type": "stream",
     "text": [
      "train_dataX shape: (54000, 784)\n",
      "train_dataY shape: (54000, 10)\n",
      "val_dataX shape: (6000, 784)\n",
      "val_dataY shape: (6000, 10)\n"
     ]
    }
   ],
   "source": [
    "print(\"train_dataX shape: \" + str(train_dataX.shape))\n",
    "print(\"train_dataY shape: \" + str(train_dataY.shape))\n",
    "print(\"val_dataX shape: \" + str(val_dataX.shape))\n",
    "print(\"val_dataY shape: \" + str(val_dataY.shape))"
   ]
  },
  {
   "cell_type": "markdown",
   "metadata": {},
   "source": [
    "#### Neural Network preparation"
   ]
  },
  {
   "cell_type": "code",
   "execution_count": 20,
   "metadata": {},
   "outputs": [],
   "source": [
    "class NeuralNetwork(object):\n",
    "    def __init__(self, input_nodes, hidden_nodes_layer_1, hidden_nodes_layer_2, output_nodes, \n",
    "                 learning_rate):\n",
    "        \n",
    "        self.input_nodes = input_nodes\n",
    "        self.hidden_nodes_layer_1 = hidden_nodes_layer_1\n",
    "        self.hidden_nodes_layer_2 = hidden_nodes_layer_2\n",
    "        self.output_nodes = output_nodes\n",
    "        self.lr = learning_rate\n",
    "        \n",
    "        # initialize weights and biases\n",
    "        self.weights_i_to_h1 = np.random.uniform(\n",
    "            (-1 / np.sqrt(self.input_nodes)), (1 / np.sqrt(self.input_nodes)), \n",
    "            (self.input_nodes, self.hidden_nodes_layer_1))\n",
    "        self.bias_i_to_h1 = np.zeros(self.hidden_nodes_layer_1)\n",
    "        \n",
    "        self.weights_h1_to_h2 = np.random.uniform(\n",
    "            (-1 / np.sqrt(self.hidden_nodes_layer_1)), (1 / np.sqrt(self.hidden_nodes_layer_1)), \n",
    "            (self.hidden_nodes_layer_1, self.hidden_nodes_layer_2))\n",
    "        self.bias_h1_to_h2 = np.zeros(self.hidden_nodes_layer_2)\n",
    "\n",
    "        self.weights_h2_to_o = np.random.uniform(\n",
    "            (-1 / np.sqrt(self.hidden_nodes_layer_2)), (1 / np.sqrt(self.hidden_nodes_layer_2)),\n",
    "            (self.hidden_nodes_layer_2, self.output_nodes))\n",
    "        self.bias_h2_to_o = np.zeros(self.output_nodes)\n",
    "        \n",
    "    def activation_ReLU(self, x):\n",
    "        return x * (x > 0)\n",
    "    \n",
    "    def activation_dReLU(self, x):\n",
    "        return 1. * (x > 0)\n",
    "    \n",
    "    def softmax(self, x):\n",
    "        # TODO: vectorise math to speed up computation\n",
    "        softmax_result = None\n",
    "        if x.ndim == 1:\n",
    "            z = x - np.max(x)\n",
    "            softmax_result = np.exp(z) / np.sum(np.exp(z))\n",
    "            return softmax_result\n",
    "        else:\n",
    "            softmax_result = []\n",
    "            for row in x:\n",
    "                z = row - np.max(row)\n",
    "                row_softmax_result = np.exp(z) / np.sum(np.exp(z))\n",
    "                softmax_result.append(row_softmax_result)\n",
    "            return np.array(softmax_result)\n",
    "    \n",
    "    def dsoftmax(self, x):\n",
    "        # TODO: vectorise math to speed up computation\n",
    "        vec_len = len(x)\n",
    "        J = np.zeros((vec_len, vec_len))\n",
    "        for i in range(vec_len):\n",
    "            for j in range(vec_len):\n",
    "                if i == j:\n",
    "                    J[i][j] = x[i] * (1 - x[j])\n",
    "                else:\n",
    "                    J[i][j] = -x[i] * x[j]\n",
    "        return J\n",
    "\n",
    "    def train(self, features, targets):\n",
    "        n_records = features.shape[0]\n",
    "        \n",
    "        # placeholders for weights and biases change values\n",
    "        delta_weights_i_h1 = np.zeros(self.weights_i_to_h1.shape)\n",
    "        delta_weights_h1_h2 = np.zeros(self.weights_h1_to_h2.shape)\n",
    "        delta_weights_h2_o = np.zeros(self.weights_h2_to_o.shape)\n",
    "        delta_bias_i_h1 = np.zeros(self.bias_i_to_h1.shape)\n",
    "        delta_bias_h1_h2 = np.zeros(self.bias_h1_to_h2.shape)\n",
    "        delta_bias_h2_o = np.zeros(self.bias_h2_to_o.shape)\n",
    "        \n",
    "        for X, y in zip(features, targets):\n",
    "            ### forward pass\n",
    "            # input to hidden 1\n",
    "            inputs_to_h1_layer = np.dot(X, self.weights_i_to_h1) + self.bias_i_to_h1\n",
    "            inputs_to_h1_layer_activated = self.activation_ReLU(inputs_to_h1_layer)\n",
    "            \n",
    "            # hidden 1 to hidden 2\n",
    "            h1_to_h2_layer = \\\n",
    "                np.dot(inputs_to_h1_layer_activated, self.weights_h1_to_h2) + self.bias_h1_to_h2\n",
    "            h1_to_h2_layer_activated = self.activation_ReLU(h1_to_h2_layer)\n",
    "\n",
    "            # hidden 2 to output\n",
    "            h2_to_output_layer = \\\n",
    "                np.dot(h1_to_h2_layer_activated, self.weights_h2_to_o) + self.bias_h2_to_o\n",
    "            h2_to_output_layer_activated = self.softmax(h2_to_output_layer)\n",
    "            \n",
    "            # output\n",
    "            final_outputs = h2_to_output_layer_activated \n",
    "\n",
    "            ### backpropagation\n",
    "            # output to hidden 2\n",
    "            error = y - final_outputs\n",
    "            output_error_term = error.dot(self.dsoftmax(h2_to_output_layer_activated))\n",
    "            \n",
    "            h2_error = np.dot(output_error_term, self.weights_h2_to_o.T)\n",
    "            h2_error_term = h2_error * self.activation_dReLU(h1_to_h2_layer_activated)\n",
    "            \n",
    "            # hidden 2 to hidden 1\n",
    "            h1_error = np.dot(h2_error_term, self.weights_h1_to_h2.T) \n",
    "            h1_error_term = h1_error * self.activation_dReLU(inputs_to_h1_layer_activated)\n",
    "\n",
    "            # weight & bias step (input to hidden)\n",
    "            delta_weights_i_h1 += h1_error_term * X[:, None]\n",
    "            delta_bias_i_h1 = np.sum(h1_error_term, axis=0)\n",
    "            \n",
    "            # weight & bias step (hidden1 to hidden2)\n",
    "            delta_weights_h1_h2 += h2_error_term * inputs_to_h1_layer_activated[:, None]\n",
    "            delta_bias_h1_h2 = np.sum(h2_error_term, axis=0)\n",
    "            \n",
    "            # weight & bias step (hidden2 to output)\n",
    "            delta_weights_h2_o += output_error_term * h1_to_h2_layer_activated[:, None]\n",
    "            delta_bias_h2_o = np.sum(output_error_term, axis=0)\n",
    "\n",
    "        # update the weights and biases     \n",
    "        self.weights_i_to_h1 += self.lr * delta_weights_i_h1 / n_records\n",
    "        self.weights_h1_to_h2 += self.lr * delta_weights_h1_h2 / n_records\n",
    "        self.weights_h2_to_o += self.lr * delta_weights_h2_o / n_records\n",
    "        self.bias_i_to_h1 += self.lr * delta_bias_i_h1 / n_records\n",
    "        self.bias_h1_to_h2 += self.lr * delta_bias_h1_h2 / n_records\n",
    "        self.bias_h2_to_o += self.lr * delta_bias_h2_o / n_records\n",
    "    \n",
    " \n",
    "    def run(self, features):\n",
    "        ### forward pass   \n",
    "        # input to hidden 1\n",
    "        inputs_to_h1_layer = np.dot(features, self.weights_i_to_h1) + self.bias_i_to_h1\n",
    "        inputs_to_h1_layer_activated = self.activation_ReLU(inputs_to_h1_layer)\n",
    "\n",
    "        # hidden 1 to hidden 2\n",
    "        h1_to_h2_layer = np.dot(\n",
    "            inputs_to_h1_layer_activated, self.weights_h1_to_h2) + self.bias_h1_to_h2\n",
    "        h1_to_h2_layer_activated = self.activation_ReLU(h1_to_h2_layer)\n",
    "\n",
    "        # hidden 2 to output\n",
    "        h2_to_output_layer = np.dot(\n",
    "            h1_to_h2_layer_activated, self.weights_h2_to_o) + self.bias_h2_to_o\n",
    "        h2_to_output_layer_activated = self.softmax(h2_to_output_layer)\n",
    "\n",
    "        # output\n",
    "        final_outputs = h2_to_output_layer_activated\n",
    "    \n",
    "        return final_outputs"
   ]
  },
  {
   "cell_type": "markdown",
   "metadata": {},
   "source": [
    "#### Batch preparation"
   ]
  },
  {
   "cell_type": "code",
   "execution_count": 21,
   "metadata": {
    "collapsed": true
   },
   "outputs": [],
   "source": [
    "def prepare_mini_batches(data, labels, batch_size):\n",
    "    assert len(data) == len(labels)\n",
    "    \n",
    "    all_batches = list()\n",
    "    for i in range(0, len(data)):\n",
    "        all_batches.append((data[i], labels[i]))\n",
    "    random.shuffle(all_batches)\n",
    "        \n",
    "    mini_batches = list()\n",
    "    while len(all_batches) >= batch_size:\n",
    "        \n",
    "        data_batch = list()\n",
    "        labels_batch = list()\n",
    "        for j in range(0, batch_size):\n",
    "            data, labels = all_batches.pop()\n",
    "            data_batch.append(data)\n",
    "            labels_batch.append(labels)\n",
    "            \n",
    "        mini_batches.append((np.array(data_batch), np.array(labels_batch)))\n",
    "    \n",
    "    return mini_batches"
   ]
  },
  {
   "cell_type": "markdown",
   "metadata": {},
   "source": [
    "#### Hyperparameters"
   ]
  },
  {
   "cell_type": "code",
   "execution_count": 22,
   "metadata": {
    "collapsed": true
   },
   "outputs": [],
   "source": [
    "epochs = 80\n",
    "batch_size = 128\n",
    "learning_rate = 0.05\n",
    "\n",
    "input_nodes = IMAGE_WIDTH * IMAGE_HEIGHT\n",
    "hidden_nodes_1 = 300\n",
    "hidden_nodes_2 = 75\n",
    "output_nodes = 10"
   ]
  },
  {
   "cell_type": "markdown",
   "metadata": {
    "collapsed": true
   },
   "source": [
    "####  Training"
   ]
  },
  {
   "cell_type": "code",
   "execution_count": 23,
   "metadata": {
    "collapsed": true
   },
   "outputs": [],
   "source": [
    "def categorical_cross_entropy(pred, target): \n",
    "    return (1/len(pred)) * -np.sum(target * np.log(pred))"
   ]
  },
  {
   "cell_type": "code",
   "execution_count": 24,
   "metadata": {
    "collapsed": true
   },
   "outputs": [],
   "source": [
    "def accuracy(predictions, labels):\n",
    "    predictions = predictions.argmax(axis=1)\n",
    "    targets = labels.argmax(axis=1)\n",
    "    return np.mean(predictions == targets, axis=0)"
   ]
  },
  {
   "cell_type": "code",
   "execution_count": 25,
   "metadata": {
    "scrolled": false
   },
   "outputs": [
    {
     "name": "stdout",
     "output_type": "stream",
     "text": [
      "Epoch: 1/80:\n",
      "      - Training loss: 2.27004943308 (acc: 0.263472387173)\n",
      "      - Validation loss: 2.21611565344 (acc: 0.444666666667)\n",
      "Epoch: 2/80:\n",
      "      - Training loss: 2.07910391104 (acc: 0.483168794537)\n",
      "      - Validation loss: 1.83185871975 (acc: 0.537333333333)\n",
      "Epoch: 3/80:\n",
      "      - Training loss: 1.39252914757 (acc: 0.640161074822)\n",
      "      - Validation loss: 0.892515737661 (acc: 0.777833333333)\n",
      "Epoch: 4/80:\n",
      "      - Training loss: 0.679007923681 (acc: 0.838368467933)\n",
      "      - Validation loss: 0.536672487901 (acc: 0.865833333333)\n",
      "Epoch: 5/80:\n",
      "      - Training loss: 0.484743234372 (acc: 0.878711401425)\n",
      "      - Validation loss: 0.434520391761 (acc: 0.887833333333)\n",
      "Epoch: 6/80:\n",
      "      - Training loss: 0.415331378342 (acc: 0.894058046318)\n",
      "      - Validation loss: 0.38392659955 (acc: 0.9005)\n",
      "Epoch: 7/80:\n",
      "      - Training loss: 0.378056980735 (acc: 0.90367057601)\n",
      "      - Validation loss: 0.356647888513 (acc: 0.908666666667)\n",
      "Epoch: 8/80:\n",
      "      - Training loss: 0.35525948544 (acc: 0.909645932304)\n",
      "      - Validation loss: 0.337054688392 (acc: 0.912333333333)\n",
      "Epoch: 9/80:\n",
      "      - Training loss: 0.339287210863 (acc: 0.913858372922)\n",
      "      - Validation loss: 0.320107398494 (acc: 0.9185)\n",
      "Epoch: 10/80:\n",
      "      - Training loss: 0.326259707267 (acc: 0.917792458432)\n",
      "      - Validation loss: 0.309962334271 (acc: 0.922166666667)\n",
      "Epoch: 11/80:\n",
      "      - Training loss: 0.31525012936 (acc: 0.921281175772)\n",
      "      - Validation loss: 0.304294140782 (acc: 0.923)\n",
      "Epoch: 12/80:\n",
      "      - Training loss: 0.305301462008 (acc: 0.924194625891)\n",
      "      - Validation loss: 0.289851160361 (acc: 0.928166666667)\n",
      "Epoch: 13/80:\n",
      "      - Training loss: 0.296429749336 (acc: 0.92606888361)\n",
      "      - Validation loss: 0.285064485807 (acc: 0.9285)\n",
      "Epoch: 14/80:\n",
      "      - Training loss: 0.289047049235 (acc: 0.928852434679)\n",
      "      - Validation loss: 0.279296909203 (acc: 0.929166666667)\n",
      "Epoch: 15/80:\n",
      "      - Training loss: 0.280422432343 (acc: 0.930893705463)\n",
      "      - Validation loss: 0.268970490024 (acc: 0.934166666667)\n",
      "Epoch: 16/80:\n",
      "      - Training loss: 0.272915421302 (acc: 0.933640142518)\n",
      "      - Validation loss: 0.26183149767 (acc: 0.934666666667)\n",
      "Epoch: 17/80:\n",
      "      - Training loss: 0.266109594871 (acc: 0.936089667458)\n",
      "      - Validation loss: 0.258188551808 (acc: 0.937166666667)\n",
      "Epoch: 18/80:\n",
      "      - Training loss: 0.259178769665 (acc: 0.937704127078)\n",
      "      - Validation loss: 0.249499854326 (acc: 0.938833333333)\n",
      "Epoch: 19/80:\n",
      "      - Training loss: 0.251653169233 (acc: 0.939281472684)\n",
      "      - Validation loss: 0.243540093379 (acc: 0.941166666667)\n",
      "Epoch: 20/80:\n",
      "      - Training loss: 0.244876898776 (acc: 0.941563984561)\n",
      "      - Validation loss: 0.23926160476 (acc: 0.942)\n",
      "Epoch: 21/80:\n",
      "      - Training loss: 0.23874945911 (acc: 0.943401128266)\n",
      "      - Validation loss: 0.235528915102 (acc: 0.942333333333)\n",
      "Epoch: 22/80:\n",
      "      - Training loss: 0.232929962179 (acc: 0.944774346793)\n",
      "      - Validation loss: 0.230033053899 (acc: 0.944)\n",
      "Epoch: 23/80:\n",
      "      - Training loss: 0.226798230823 (acc: 0.946722832542)\n",
      "      - Validation loss: 0.222368042903 (acc: 0.9455)\n",
      "Epoch: 24/80:\n",
      "      - Training loss: 0.220742655118 (acc: 0.948708432304)\n",
      "      - Validation loss: 0.219234429958 (acc: 0.947333333333)\n",
      "Epoch: 25/80:\n",
      "      - Training loss: 0.215699472908 (acc: 0.949858966746)\n",
      "      - Validation loss: 0.214015283908 (acc: 0.946666666667)\n",
      "Epoch: 26/80:\n",
      "      - Training loss: 0.210122644277 (acc: 0.951491983373)\n",
      "      - Validation loss: 0.209949894735 (acc: 0.948166666667)\n",
      "Epoch: 27/80:\n",
      "      - Training loss: 0.204950831985 (acc: 0.952902315914)\n",
      "      - Validation loss: 0.205483911338 (acc: 0.9475)\n",
      "Epoch: 28/80:\n",
      "      - Training loss: 0.200433452668 (acc: 0.954312648456)\n",
      "      - Validation loss: 0.201379086058 (acc: 0.9505)\n",
      "Epoch: 29/80:\n",
      "      - Training loss: 0.195434667883 (acc: 0.955277612827)\n",
      "      - Validation loss: 0.198136802057 (acc: 0.950833333333)\n",
      "Epoch: 30/80:\n",
      "      - Training loss: 0.191569503339 (acc: 0.956780730404)\n",
      "      - Validation loss: 0.193077810821 (acc: 0.9525)\n",
      "Epoch: 31/80:\n",
      "      - Training loss: 0.187072300695 (acc: 0.957949821853)\n",
      "      - Validation loss: 0.191910809035 (acc: 0.952833333333)\n",
      "Epoch: 32/80:\n",
      "      - Training loss: 0.183064430762 (acc: 0.958692102138)\n",
      "      - Validation loss: 0.187594462884 (acc: 0.9535)\n",
      "Epoch: 33/80:\n",
      "      - Training loss: 0.17893966306 (acc: 0.959694180523)\n",
      "      - Validation loss: 0.186506508863 (acc: 0.954666666667)\n",
      "Epoch: 34/80:\n",
      "      - Training loss: 0.175390873711 (acc: 0.960863271971)\n",
      "      - Validation loss: 0.181071614683 (acc: 0.955)\n",
      "Epoch: 35/80:\n",
      "      - Training loss: 0.171752867449 (acc: 0.961475653207)\n",
      "      - Validation loss: 0.177596269426 (acc: 0.956666666667)\n",
      "Epoch: 36/80:\n",
      "      - Training loss: 0.16801521182 (acc: 0.962756086698)\n",
      "      - Validation loss: 0.175493266312 (acc: 0.956333333333)\n",
      "Epoch: 37/80:\n",
      "      - Training loss: 0.164225954747 (acc: 0.963665380048)\n",
      "      - Validation loss: 0.171257520912 (acc: 0.957333333333)\n",
      "Epoch: 38/80:\n",
      "      - Training loss: 0.161418884899 (acc: 0.964333432304)\n",
      "      - Validation loss: 0.169072532232 (acc: 0.957666666667)\n",
      "Epoch: 39/80:\n",
      "      - Training loss: 0.158311118291 (acc: 0.965446852732)\n",
      "      - Validation loss: 0.166047983834 (acc: 0.957666666667)\n",
      "Epoch: 40/80:\n",
      "      - Training loss: 0.154682658838 (acc: 0.966319032067)\n",
      "      - Validation loss: 0.163476396515 (acc: 0.959666666667)\n",
      "Epoch: 41/80:\n",
      "      - Training loss: 0.151748177649 (acc: 0.96726543943)\n",
      "      - Validation loss: 0.162700342461 (acc: 0.961)\n",
      "Epoch: 42/80:\n",
      "      - Training loss: 0.148869354109 (acc: 0.9682304038)\n",
      "      - Validation loss: 0.158697188465 (acc: 0.960833333333)\n",
      "Epoch: 43/80:\n",
      "      - Training loss: 0.146402255463 (acc: 0.96913969715)\n",
      "      - Validation loss: 0.158514311837 (acc: 0.960666666667)\n",
      "Epoch: 44/80:\n",
      "      - Training loss: 0.143761930785 (acc: 0.969659293349)\n",
      "      - Validation loss: 0.155584528602 (acc: 0.960333333333)\n",
      "Epoch: 45/80:\n",
      "      - Training loss: 0.140657282769 (acc: 0.970308788599)\n",
      "      - Validation loss: 0.153408312005 (acc: 0.962833333333)\n",
      "Epoch: 46/80:\n",
      "      - Training loss: 0.138101584649 (acc: 0.971385095012)\n",
      "      - Validation loss: 0.150572539052 (acc: 0.963166666667)\n",
      "Epoch: 47/80:\n",
      "      - Training loss: 0.136031534007 (acc: 0.971997476247)\n",
      "      - Validation loss: 0.149201715084 (acc: 0.963166666667)\n",
      "Epoch: 48/80:\n",
      "      - Training loss: 0.133485928093 (acc: 0.972888212589)\n",
      "      - Validation loss: 0.147620904236 (acc: 0.964)\n",
      "Epoch: 49/80:\n",
      "      - Training loss: 0.130806327089 (acc: 0.973927404988)\n",
      "      - Validation loss: 0.144717244392 (acc: 0.964333333333)\n",
      "Epoch: 50/80:\n",
      "      - Training loss: 0.128454303544 (acc: 0.974205760095)\n",
      "      - Validation loss: 0.142708856883 (acc: 0.9645)\n",
      "Epoch: 51/80:\n",
      "      - Training loss: 0.126024894038 (acc: 0.974706799287)\n",
      "      - Validation loss: 0.14123436462 (acc: 0.965)\n",
      "Epoch: 52/80:\n",
      "      - Training loss: 0.123619638266 (acc: 0.975838776722)\n",
      "      - Validation loss: 0.138909164692 (acc: 0.965666666667)\n",
      "Epoch: 53/80:\n",
      "      - Training loss: 0.121958295203 (acc: 0.975838776722)\n",
      "      - Validation loss: 0.136935020929 (acc: 0.966666666667)\n",
      "Epoch: 54/80:\n",
      "      - Training loss: 0.119966564583 (acc: 0.976506828979)\n",
      "      - Validation loss: 0.137047706657 (acc: 0.966)\n",
      "Epoch: 55/80:\n",
      "      - Training loss: 0.117753640593 (acc: 0.977119210214)\n",
      "      - Validation loss: 0.134850448102 (acc: 0.967)\n",
      "Epoch: 56/80:\n",
      "      - Training loss: 0.115976443162 (acc: 0.977490350356)\n",
      "      - Validation loss: 0.132970240653 (acc: 0.967666666667)\n",
      "Epoch: 57/80:\n",
      "      - Training loss: 0.114105971951 (acc: 0.978288301663)\n",
      "      - Validation loss: 0.131874456998 (acc: 0.9675)\n",
      "Epoch: 58/80:\n",
      "      - Training loss: 0.111988083678 (acc: 0.978510985748)\n",
      "      - Validation loss: 0.130663940207 (acc: 0.968333333333)\n",
      "Epoch: 59/80:\n",
      "      - Training loss: 0.110514348066 (acc: 0.979123366983)\n",
      "      - Validation loss: 0.129859111258 (acc: 0.968166666667)\n",
      "Epoch: 60/80:\n",
      "      - Training loss: 0.108619631886 (acc: 0.979513064133)\n",
      "      - Validation loss: 0.128495696522 (acc: 0.969)\n",
      "Epoch: 61/80:\n",
      "      - Training loss: 0.106824000985 (acc: 0.979754305226)\n",
      "      - Validation loss: 0.127169416684 (acc: 0.969)\n",
      "Epoch: 62/80:\n",
      "      - Training loss: 0.10502998659 (acc: 0.980552256532)\n",
      "      - Validation loss: 0.124315270316 (acc: 0.968833333333)\n"
     ]
    },
    {
     "name": "stdout",
     "output_type": "stream",
     "text": [
      "Epoch: 63/80:\n",
      "      - Training loss: 0.103537124636 (acc: 0.980607927553)\n",
      "      - Validation loss: 0.12472982069 (acc: 0.9695)\n",
      "Epoch: 64/80:\n",
      "      - Training loss: 0.102034834341 (acc: 0.981220308789)\n",
      "      - Validation loss: 0.123104771126 (acc: 0.970333333333)\n",
      "Epoch: 65/80:\n",
      "      - Training loss: 0.100098090273 (acc: 0.981832690024)\n",
      "      - Validation loss: 0.121068427062 (acc: 0.970333333333)\n",
      "Epoch: 66/80:\n",
      "      - Training loss: 0.0989896334348 (acc: 0.982129602138)\n",
      "      - Validation loss: 0.120794169868 (acc: 0.971)\n",
      "Epoch: 67/80:\n",
      "      - Training loss: 0.0973787178642 (acc: 0.982426514252)\n",
      "      - Validation loss: 0.121777105529 (acc: 0.970166666667)\n",
      "Epoch: 68/80:\n",
      "      - Training loss: 0.0955485441068 (acc: 0.983205908551)\n",
      "      - Validation loss: 0.118406638611 (acc: 0.97)\n",
      "Epoch: 69/80:\n",
      "      - Training loss: 0.0943241027626 (acc: 0.983372921615)\n",
      "      - Validation loss: 0.117858194402 (acc: 0.970166666667)\n",
      "Epoch: 70/80:\n",
      "      - Training loss: 0.093191787218 (acc: 0.9838554038)\n",
      "      - Validation loss: 0.117656978212 (acc: 0.97)\n",
      "Epoch: 71/80:\n",
      "      - Training loss: 0.091643038124 (acc: 0.983892517815)\n",
      "      - Validation loss: 0.117616905321 (acc: 0.971)\n",
      "Epoch: 72/80:\n",
      "      - Training loss: 0.0905869988175 (acc: 0.984319328979)\n",
      "      - Validation loss: 0.115935232165 (acc: 0.971666666667)\n",
      "Epoch: 73/80:\n",
      "      - Training loss: 0.089129124758 (acc: 0.984709026128)\n",
      "      - Validation loss: 0.11463258147 (acc: 0.971166666667)\n",
      "Epoch: 74/80:\n",
      "      - Training loss: 0.0881442015188 (acc: 0.985117280285)\n",
      "      - Validation loss: 0.114409783619 (acc: 0.970666666667)\n",
      "Epoch: 75/80:\n",
      "      - Training loss: 0.0870536291919 (acc: 0.985247179335)\n",
      "      - Validation loss: 0.112670645914 (acc: 0.971333333333)\n",
      "Epoch: 76/80:\n",
      "      - Training loss: 0.0858591375868 (acc: 0.985414192399)\n",
      "      - Validation loss: 0.112208579272 (acc: 0.970666666667)\n",
      "Epoch: 77/80:\n",
      "      - Training loss: 0.0844412719804 (acc: 0.985896674584)\n",
      "      - Validation loss: 0.111776643845 (acc: 0.971)\n",
      "Epoch: 78/80:\n",
      "      - Training loss: 0.0832314831326 (acc: 0.986026573634)\n",
      "      - Validation loss: 0.110791523813 (acc: 0.9705)\n",
      "Epoch: 79/80:\n",
      "      - Training loss: 0.0825126129604 (acc: 0.986323485748)\n",
      "      - Validation loss: 0.110446600098 (acc: 0.971166666667)\n",
      "Epoch: 80/80:\n",
      "      - Training loss: 0.0812424507862 (acc: 0.986546169834)\n",
      "      - Validation loss: 0.111195767512 (acc: 0.969833333333)\n"
     ]
    }
   ],
   "source": [
    "network = NeuralNetwork(input_nodes, hidden_nodes_1, hidden_nodes_2, output_nodes, learning_rate)\n",
    "\n",
    "info = {'train':[], 'validation':[], 'train_acc':[], 'validation_acc':[]}\n",
    "for epoch in range(epochs):    \n",
    "    mini_batches = prepare_mini_batches(train_dataX, train_dataY, batch_size)\n",
    "            \n",
    "    epoch_losses = []\n",
    "    epoch_accuracy = []\n",
    "    while mini_batches:\n",
    "        data_batch, labels_batch = mini_batches.pop()\n",
    "        network.train(data_batch, labels_batch)\n",
    "        \n",
    "        batch_train_loss = categorical_cross_entropy(network.run(data_batch), labels_batch)\n",
    "        batch_accuracy = accuracy(network.run(data_batch), labels_batch)\n",
    "       \n",
    "        epoch_losses.append(batch_train_loss)\n",
    "        epoch_accuracy.append(batch_accuracy)\n",
    "        \n",
    "    train_loss = np.mean(epoch_losses)\n",
    "    info['train'].append(train_loss)\n",
    "    \n",
    "    train_accuracy = np.mean(epoch_accuracy)\n",
    "    info['train_acc'].append(train_accuracy)\n",
    "        \n",
    "    val_loss = categorical_cross_entropy(network.run(val_dataX), val_dataY)\n",
    "    info['validation'].append(val_loss)\n",
    "    \n",
    "    val_accuracy = accuracy(network.run(val_dataX), val_dataY)\n",
    "    info['validation_acc'].append(val_accuracy)\n",
    "    \n",
    "    print(\"Epoch: \" + str(epoch + 1) + \"/\" + str(epochs) + \":\\n\"\n",
    "          + \"      - Training loss: \" + str(train_loss) + \" (acc: \" + str(train_accuracy) + \")\\n\"\n",
    "          + \"      - Validation loss: \" + str(val_loss) + \" (acc: \" + str(val_accuracy) + \")\")"
   ]
  },
  {
   "cell_type": "markdown",
   "metadata": {},
   "source": [
    "#### Results"
   ]
  },
  {
   "cell_type": "code",
   "execution_count": 26,
   "metadata": {},
   "outputs": [
    {
     "data": {
      "image/png": "[encoded data removed]",
      "text/plain": [
       "<matplotlib.figure.Figure at 0x11f0758d0>"
      ]
     },
     "metadata": {},
     "output_type": "display_data"
    }
   ],
   "source": [
    "fig1 = plt.figure()\n",
    "ax1 = fig1.add_subplot(111)\n",
    "ax1.plot(info['train_acc'])\n",
    "ax1.plot(info['validation_acc'])\n",
    "blue_patch = mpatches.Patch(color='#699cef', label='Training accuracy')\n",
    "orange_patch = mpatches.Patch(color='orange', label='Validation accuracy')\n",
    "ax1.legend(handles=[blue_patch, orange_patch])\n",
    "plt.show()"
   ]
  },
  {
   "cell_type": "code",
   "execution_count": 27,
   "metadata": {},
   "outputs": [
    {
     "data": {
      "image/png": "[encoded data removed]",
      "text/plain": [
       "<matplotlib.figure.Figure at 0x10e0ed198>"
      ]
     },
     "metadata": {},
     "output_type": "display_data"
    }
   ],
   "source": [
    "fig1 = plt.figure()\n",
    "ax2 = fig1.add_subplot(111)\n",
    "ax2.plot(info['train'])\n",
    "ax2.plot(info['validation'])\n",
    "blue_patch = mpatches.Patch(color='#699cef', label='Training cross-entropy')\n",
    "orange_patch = mpatches.Patch(color='orange', label='Validation cross-entropy')\n",
    "ax2.legend(handles=[blue_patch, orange_patch])\n",
    "plt.show()"
   ]
  },
  {
   "cell_type": "code",
   "execution_count": 28,
   "metadata": {},
   "outputs": [
    {
     "name": "stdout",
     "output_type": "stream",
     "text": [
      "Test data accuracy:  0.9716\n"
     ]
    }
   ],
   "source": [
    "test_accuracy = accuracy(network.run(testX_processed), testY_processed)\n",
    "print(\"Test data accuracy: \", test_accuracy)"
   ]
  }
 ],
 "metadata": {
  "kernelspec": {
   "display_name": "Python 3",
   "language": "python",
   "name": "python3"
  },
  "language_info": {
   "codemirror_mode": {
    "name": "ipython",
    "version": 3
   },
   "file_extension": ".py",
   "mimetype": "text/x-python",
   "name": "python",
   "nbconvert_exporter": "python",
   "pygments_lexer": "ipython3",
   "version": "3.6.1"
  }
 },
 "nbformat": 4,
 "nbformat_minor": 2
}
